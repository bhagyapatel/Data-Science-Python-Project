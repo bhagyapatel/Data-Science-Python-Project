{
 "cells": [
  {
   "cell_type": "code",
   "execution_count": 1,
   "metadata": {},
   "outputs": [
    {
     "name": "stdout",
     "output_type": "stream",
     "text": [
      "Requirement already satisfied: pandas in c:\\users\\lenovo\\anaconda3\\lib\\site-packages (1.1.3)\n",
      "Collecting profiling\n",
      "  Downloading profiling-0.1.3.tar.gz (36 kB)\n",
      "Requirement already satisfied: python-dateutil>=2.7.3 in c:\\users\\lenovo\\anaconda3\\lib\\site-packages (from pandas) (2.8.1)\n",
      "Requirement already satisfied: numpy>=1.15.4 in c:\\users\\lenovo\\anaconda3\\lib\\site-packages (from pandas) (1.19.2)\n",
      "Requirement already satisfied: pytz>=2017.2 in c:\\users\\lenovo\\anaconda3\\lib\\site-packages (from pandas) (2020.1)\n",
      "Collecting valuedispatch>=0.0.1\n",
      "  Downloading valuedispatch-0.0.1.tar.gz (1.8 kB)\n",
      "Requirement already satisfied: click>=4.1 in c:\\users\\lenovo\\anaconda3\\lib\\site-packages (from profiling) (7.1.2)\n",
      "Collecting click-default-group>=1.2\n",
      "  Downloading click-default-group-1.2.2.tar.gz (3.3 kB)\n",
      "Requirement already satisfied: six>=1.8.0 in c:\\users\\lenovo\\anaconda3\\lib\\site-packages (from profiling) (1.15.0)\n",
      "Collecting urwid>=1.2.1\n",
      "  Using cached urwid-2.1.2.tar.gz (634 kB)\n",
      "Building wheels for collected packages: profiling, valuedispatch, click-default-group, urwid\n",
      "  Building wheel for profiling (setup.py): started\n",
      "  Building wheel for profiling (setup.py): still running...\n",
      "  Building wheel for profiling (setup.py): finished with status 'done'\n",
      "  Created wheel for profiling: filename=profiling-0.1.3-cp38-cp38-win_amd64.whl size=41761 sha256=985828d1a9f27364203793fad3d263164c1a74542dcb356c0b1f318e68e17ffc\n",
      "  Stored in directory: c:\\users\\lenovo\\appdata\\local\\pip\\cache\\wheels\\e6\\42\\6d\\c9a16f8c3cceddc33d7ed3cec829abed5dfe81eaaea0d1e5b6\n",
      "  Building wheel for valuedispatch (setup.py): started\n",
      "  Building wheel for valuedispatch (setup.py): finished with status 'done'\n",
      "  Created wheel for valuedispatch: filename=valuedispatch-0.0.1-py3-none-any.whl size=2023 sha256=073f5965d14c9a5d37c3aa4e9e840be7ccbcd9532b7d7d2ea3f2a2f27e7c219d\n",
      "  Stored in directory: c:\\users\\lenovo\\appdata\\local\\pip\\cache\\wheels\\90\\da\\c2\\aef66b6312d9866244cc968dc75606a80bc24c54cf48574956\n",
      "  Building wheel for click-default-group (setup.py): started\n",
      "  Building wheel for click-default-group (setup.py): finished with status 'done'\n",
      "  Created wheel for click-default-group: filename=click_default_group-1.2.2-py3-none-any.whl size=3389 sha256=1f92845410c044232f30e561bd86155831f1b7039d95682d5205eff2c0eef596\n",
      "  Stored in directory: c:\\users\\lenovo\\appdata\\local\\pip\\cache\\wheels\\7e\\9f\\ec\\d087477ddc7c2807136ca08eb01b5f00e66da90eb4dbf323ab\n",
      "  Building wheel for urwid (setup.py): started\n",
      "  Building wheel for urwid (setup.py): finished with status 'done'\n",
      "  Created wheel for urwid: filename=urwid-2.1.2-cp38-cp38-win_amd64.whl size=244266 sha256=87ecba936cfdc1c924175229a91ecd59e6dba8ff4cef99f2ab8a53c31d18bf04\n",
      "  Stored in directory: c:\\users\\lenovo\\appdata\\local\\pip\\cache\\wheels\\28\\71\\e4\\38b5d81438105d0e3db5016cf2eea6fa796d89d96a04451d4d\n",
      "Successfully built profiling valuedispatch click-default-group urwid\n",
      "Installing collected packages: valuedispatch, click-default-group, urwid, profiling\n",
      "Successfully installed click-default-group-1.2.2 profiling-0.1.3 urwid-2.1.2 valuedispatch-0.0.1\n",
      "Note: you may need to restart the kernel to use updated packages.\n"
     ]
    }
   ],
   "source": [
    "pip install pandas profiling"
   ]
  },
  {
   "cell_type": "code",
   "execution_count": 14,
   "metadata": {},
   "outputs": [],
   "source": [
    "import numpy as np\n",
    "import pandas as pd\n",
    "import pandas_profiling\n",
    "from pandas_profiling import ProfileReport"
   ]
  },
  {
   "cell_type": "code",
   "execution_count": 4,
   "metadata": {},
   "outputs": [],
   "source": [
    "train_data = pd.read_csv(\"C:\\\\Users\\\\LENOVO\\\\Desktop\\\\Simplilearn\\\\AI_diabeics-project\\\\Amezon_sentiment_analysis\\\\Ecommerce\\\\train_data.csv\")\n",
    "test_data = pd.read_csv(\"C:\\\\Users\\\\LENOVO\\\\Desktop\\\\Simplilearn\\\\AI_diabeics-project\\\\Amezon_sentiment_analysis\\\\Ecommerce\\\\test_data.csv\")\n",
    "test_data_hidden = pd.read_csv(\"C:\\\\Users\\\\LENOVO\\\\Desktop\\\\Simplilearn\\\\AI_diabeics-project\\\\Amezon_sentiment_analysis\\\\Ecommerce\\\\test_data_hidden.csv\")\n",
    "\n",
    "    "
   ]
  },
  {
   "cell_type": "code",
   "execution_count": 6,
   "metadata": {},
   "outputs": [
    {
     "name": "stdout",
     "output_type": "stream",
     "text": [
      "(4000, 8)\n",
      "(1000, 7)\n",
      "(1000, 8)\n"
     ]
    }
   ],
   "source": [
    "print(train_data.shape)\n",
    "print(test_data.shape)\n",
    "print(test_data_hidden.shape)"
   ]
  },
  {
   "cell_type": "code",
   "execution_count": 8,
   "metadata": {},
   "outputs": [],
   "source": [
    "df = pd.concat([train_data,test_data_hidden],axis = 0)"
   ]
  },
  {
   "cell_type": "code",
   "execution_count": 9,
   "metadata": {},
   "outputs": [
    {
     "data": {
      "text/plain": [
       "(5000, 8)"
      ]
     },
     "execution_count": 9,
     "metadata": {},
     "output_type": "execute_result"
    }
   ],
   "source": [
    "df.shape"
   ]
  },
  {
   "cell_type": "code",
   "execution_count": 15,
   "metadata": {},
   "outputs": [],
   "source": [
    "ptr = pandas_profiling.ProfileReport(df)\n"
   ]
  },
  {
   "cell_type": "code",
   "execution_count": 16,
   "metadata": {},
   "outputs": [
    {
     "data": {
      "application/vnd.jupyter.widget-view+json": {
       "model_id": "511dcf87441f41f7a3fb38f7cdd9d47b",
       "version_major": 2,
       "version_minor": 0
      },
      "text/plain": [
       "HBox(children=(HTML(value='Summarize dataset'), FloatProgress(value=0.0, max=22.0), HTML(value='')))"
      ]
     },
     "metadata": {},
     "output_type": "display_data"
    },
    {
     "name": "stdout",
     "output_type": "stream",
     "text": [
      "\n"
     ]
    },
    {
     "data": {
      "application/vnd.jupyter.widget-view+json": {
       "model_id": "b750cabf2f00481ea5bb754438f39343",
       "version_major": 2,
       "version_minor": 0
      },
      "text/plain": [
       "HBox(children=(HTML(value='Generate report structure'), FloatProgress(value=0.0, max=1.0), HTML(value='')))"
      ]
     },
     "metadata": {},
     "output_type": "display_data"
    },
    {
     "name": "stdout",
     "output_type": "stream",
     "text": [
      "\n"
     ]
    },
    {
     "data": {
      "application/vnd.jupyter.widget-view+json": {
       "model_id": "a491b63d1aa54b66abbd0afe63c979fe",
       "version_major": 2,
       "version_minor": 0
      },
      "text/plain": [
       "HBox(children=(HTML(value='Render HTML'), FloatProgress(value=0.0, max=1.0), HTML(value='')))"
      ]
     },
     "metadata": {},
     "output_type": "display_data"
    },
    {
     "name": "stdout",
     "output_type": "stream",
     "text": [
      "\n"
     ]
    },
    {
     "data": {
      "application/vnd.jupyter.widget-view+json": {
       "model_id": "0c083e66de0b42f09353ceddeda7a93a",
       "version_major": 2,
       "version_minor": 0
      },
      "text/plain": [
       "HBox(children=(HTML(value='Export report to file'), FloatProgress(value=0.0, max=1.0), HTML(value='')))"
      ]
     },
     "metadata": {},
     "output_type": "display_data"
    },
    {
     "name": "stdout",
     "output_type": "stream",
     "text": [
      "\n"
     ]
    }
   ],
   "source": [
    "ptr.to_file(\"C:\\\\Users\\\\LENOVO\\\\Desktop\\\\Simplilearn\\\\AI_diabeics-project\\\\Amezon_sentiment_analysis\\\\Ecommerce\\\\amezon_sentiment_report.html\")\n",
    "\n"
   ]
  },
  {
   "cell_type": "code",
   "execution_count": null,
   "metadata": {},
   "outputs": [],
   "source": []
  }
 ],
 "metadata": {
  "kernelspec": {
   "display_name": "Python 3",
   "language": "python",
   "name": "python3"
  },
  "language_info": {
   "codemirror_mode": {
    "name": "ipython",
    "version": 3
   },
   "file_extension": ".py",
   "mimetype": "text/x-python",
   "name": "python",
   "nbconvert_exporter": "python",
   "pygments_lexer": "ipython3",
   "version": "3.8.5"
  }
 },
 "nbformat": 4,
 "nbformat_minor": 4
}
