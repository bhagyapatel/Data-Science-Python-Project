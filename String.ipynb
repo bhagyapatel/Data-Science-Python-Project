{
  "nbformat": 4,
  "nbformat_minor": 0,
  "metadata": {
    "colab": {
      "provenance": [],
      "toc_visible": true,
      "authorship_tag": "ABX9TyNenEzWqCOksMBdmGpVU/7j",
      "include_colab_link": true
    },
    "kernelspec": {
      "name": "python3",
      "display_name": "Python 3"
    },
    "language_info": {
      "name": "python"
    }
  },
  "cells": [
    {
      "cell_type": "markdown",
      "metadata": {
        "id": "view-in-github",
        "colab_type": "text"
      },
      "source": [
        "<a href=\"https://colab.research.google.com/github/bhagyapatel/Data-Science-Python-Project/blob/main/String.ipynb\" target=\"_parent\"><img src=\"https://colab.research.google.com/assets/colab-badge.svg\" alt=\"Open In Colab\"/></a>"
      ]
    },
    {
      "cell_type": "markdown",
      "source": [
        "# String"
      ],
      "metadata": {
        "id": "mZKbnJSLBLkl"
      }
    },
    {
      "cell_type": "markdown",
      "source": [
        "1. WE can use str.replace(\"a\",\"b\")\n",
        "2. can't use remove on string\n"
      ],
      "metadata": {
        "id": "2vZJMVI7X-xA"
      }
    },
    {
      "cell_type": "code",
      "execution_count": null,
      "metadata": {
        "colab": {
          "base_uri": "https://localhost:8080/"
        },
        "id": "vdwLPRBpu04P",
        "outputId": "c0d4578b-c62f-4909-a063-0f727449ba70"
      },
      "outputs": [
        {
          "output_type": "stream",
          "name": "stdout",
          "text": [
            "Enter the string: wertyhyhbfbf\n",
            "webf\n"
          ]
        }
      ],
      "source": [
        "#Write a Python program to get a string made of the first 2 and last 2 characters of a given string. If the string length is less than 2, return the empty string instead.\n",
        "str1 = input(\"Enter the string: \")\n",
        "\n",
        "if len(str1)>=2:\n",
        "  print(str1[:2]+str1[-2:])\n",
        "else:\n",
        "  print(\"Empty String\")\n"
      ]
    },
    {
      "cell_type": "code",
      "source": [
        "#Write a Python program to get a string from a given string where all occurrences of its first char have been changed to '$', except the first char itself.\n",
        "\n",
        "str1 = input(\"Enter the string:\")\n",
        "a = str1[0]\n",
        "sd = str1.replace(a,'$')\n",
        "print(a+sd[1:])\n",
        "\n",
        "\n"
      ],
      "metadata": {
        "colab": {
          "base_uri": "https://localhost:8080/"
        },
        "id": "D384i7-7CAQ1",
        "outputId": "ec00ab96-d268-4a64-f740-4770eb1d26a2"
      },
      "execution_count": null,
      "outputs": [
        {
          "output_type": "stream",
          "name": "stdout",
          "text": [
            "Enter the string:ashhdaaahhjja\n",
            "ashhd$$$hhjj$\n"
          ]
        }
      ]
    },
    {
      "cell_type": "code",
      "source": [
        "#Write a Python program to get a single string from two given strings, separated by a space and swap the first two characters of each string.\n",
        "\n",
        "s,s1 = input().split(\" \")\n",
        "print(s1+s)\n",
        "print(s[1]+s[0]+s[2:]+s1[1]+s1[0]+s1[2:])"
      ],
      "metadata": {
        "colab": {
          "base_uri": "https://localhost:8080/"
        },
        "id": "u8PehD24DRd3",
        "outputId": "857aa62d-689e-403b-bbe5-ba490c4dda11"
      },
      "execution_count": null,
      "outputs": [
        {
          "output_type": "stream",
          "name": "stdout",
          "text": [
            "hello dear\n",
            "dearhello\n",
            "ehlloedar\n"
          ]
        }
      ]
    },
    {
      "cell_type": "code",
      "source": [
        "#Write a Python program to add 'ing' at the end of a given string (length should be at least 3). If the given string already ends with 'ing', add \n",
        "#'ly' instead. If the string length of the given string is less than 3, leave it unchanged.\n",
        "\n",
        "str1 = input()\n",
        "\n",
        "if len(str1)>=3:\n",
        "  if str1[-3:] == 'ing':\n",
        "    print(str1[:-3]+\"ly\")\n",
        "  else:\n",
        "    print(str1[:-3]+\"ing\")\n",
        "else:\n",
        "  print(str1)"
      ],
      "metadata": {
        "colab": {
          "base_uri": "https://localhost:8080/"
        },
        "id": "oFERY4UDEV0e",
        "outputId": "d622c88a-473e-42b7-a410-cb7b814716c1"
      },
      "execution_count": null,
      "outputs": [
        {
          "output_type": "stream",
          "name": "stdout",
          "text": [
            "hiiiiii\n",
            "hiiiing\n"
          ]
        }
      ]
    },
    {
      "cell_type": "code",
      "source": [
        "# Write a Python program to find the first appearance of the substrings 'not' and 'poor' in a given string. If 'not' follows 'poor', \n",
        "#replace the whole 'not'...'poor' substring with 'good'. Return the resulting string. \n",
        "\n",
        "str1 = input()\n",
        "\n",
        "if \"poor\" in str1:\n",
        "  if \"not\" in str1:\n",
        "    print(str1.replace(\"not\",\"is\"))\n",
        "  else:\n",
        "    print(str1.replace(\"poor\",\"good\"))\n",
        "  "
      ],
      "metadata": {
        "colab": {
          "base_uri": "https://localhost:8080/"
        },
        "id": "l_I-314aEVxE",
        "outputId": "f2bbe292-706f-4e7c-e0c6-c170c232c92d"
      },
      "execution_count": null,
      "outputs": [
        {
          "output_type": "stream",
          "name": "stdout",
          "text": [
            "The lyrics is not that poor!\n",
            "The lyrics is is that poor!\n"
          ]
        }
      ]
    },
    {
      "cell_type": "code",
      "source": [
        "str1 = 'poor not'\n",
        "if 'not'in str1:\n",
        "  print(str1.replace(\"not\",\"is\"))"
      ],
      "metadata": {
        "colab": {
          "base_uri": "https://localhost:8080/"
        },
        "id": "r2fKvrnhEVuA",
        "outputId": "70a3506d-6b07-4806-b4f3-075232dc8966"
      },
      "execution_count": null,
      "outputs": [
        {
          "output_type": "stream",
          "name": "stdout",
          "text": [
            "poor is\n"
          ]
        }
      ]
    },
    {
      "cell_type": "code",
      "source": [
        "# Write a Python function that takes a list of words and return the longest word and the length of the longest one.\n",
        "a =0\n",
        "from collections import Counter\n",
        "str1 = list(input().split(\" \"))\n",
        "for i in str1:\n",
        "  if len(i)>a:\n",
        "    a = len(i)\n",
        "  else:\n",
        "    pass\n",
        "print(a)\n",
        "\n",
        "#print(\"Logenst word is: \"+max(Counter(str1))+\"Length of logest word is\"+ len(max(Counter(str1))))\n",
        "\n",
        "print(\"Logenst word is: {} and ength of logest word is: {}\".format(max(Counter(str1)),len(max(Counter(str1)))))\n"
      ],
      "metadata": {
        "colab": {
          "base_uri": "https://localhost:8080/"
        },
        "id": "haoVahVxEVrI",
        "outputId": "619ab656-b4a5-4bea-e1b0-a23e005210e7"
      },
      "execution_count": null,
      "outputs": [
        {
          "output_type": "stream",
          "name": "stdout",
          "text": [
            "Hi hello\n",
            "5\n",
            "Logenst word is: hello and ength of logest word is: 5\n"
          ]
        }
      ]
    },
    {
      "cell_type": "code",
      "source": [
        "#Write a Python program to remove the nth index character from a nonempty string.\n",
        "\n",
        "def str1(str2,n):\n",
        "  if str2.count(n) ==1:\n",
        "    i = str2.index(n)\n",
        "    f = str2[:i]\n",
        "    l = str2[i+1:]\n",
        "    return f+l\n",
        "  else:\n",
        "    return str2.replace(n,\"\")\n",
        "  \n",
        "  \n",
        "print(str1(\"ohhellooo\",\"h\"))"
      ],
      "metadata": {
        "colab": {
          "base_uri": "https://localhost:8080/"
        },
        "id": "fejPWqZbEVoP",
        "outputId": "0fe67e1f-e5ba-480c-d2b1-fb6e9890c31d"
      },
      "execution_count": null,
      "outputs": [
        {
          "output_type": "stream",
          "name": "stdout",
          "text": [
            "oellooo\n"
          ]
        }
      ]
    },
    {
      "cell_type": "code",
      "source": [
        "#Write a Python program to remove characters that have odd index values in a given string.\n",
        "\n",
        "def str1(s):\n",
        "  a = \"\"\n",
        "  for i in range(1,len(s),2):\n",
        "    a+=s[i]\n",
        "    \n",
        "  return a\n",
        "print(str1(\"hellooodssd\"))\n",
        "\n",
        "  \n",
        "  "
      ],
      "metadata": {
        "colab": {
          "base_uri": "https://localhost:8080/"
        },
        "id": "ybfEb7XHbnMw",
        "outputId": "ce3c9db5-82c2-4ab1-a76a-65a6c1e0fc9d"
      },
      "execution_count": null,
      "outputs": [
        {
          "output_type": "stream",
          "name": "stdout",
          "text": [
            "elods\n"
          ]
        }
      ]
    },
    {
      "cell_type": "code",
      "source": [
        "#Write a Python script that takes input from the user and displays that input back in upper and lower cases\n",
        "\n",
        "a = input()\n",
        "print(a.upper())\n",
        "print(a.lower())\n"
      ],
      "metadata": {
        "id": "i1_OOe5pfmn0"
      },
      "execution_count": null,
      "outputs": []
    },
    {
      "cell_type": "code",
      "source": [
        "# convert a char into a:-97 and A:-65 into binary,hexa,octal\n",
        "\n",
        "a = input()\n",
        "print(ord(a))\n",
        "print(hex(ord(a)))\n",
        "print(bin(ord(a)))\n",
        "print(oct(ord(a)))"
      ],
      "metadata": {
        "colab": {
          "base_uri": "https://localhost:8080/"
        },
        "id": "9yjF6HNUkk8n",
        "outputId": "8a06434a-34d3-42e3-b18d-ba1f7e94457e"
      },
      "execution_count": null,
      "outputs": [
        {
          "output_type": "stream",
          "name": "stdout",
          "text": [
            "a\n",
            "97\n",
            "0x61\n",
            "0b1100001\n",
            "0o141\n"
          ]
        }
      ]
    },
    {
      "cell_type": "code",
      "source": [
        "#Write a Python program that accepts a comma-separated sequence of words as input and prints the distinct \n",
        "#words in sorted form (alphanumerically).\n",
        "\n",
        "a = input()\n",
        "print(a)\n",
        "print(set(a))"
      ],
      "metadata": {
        "colab": {
          "base_uri": "https://localhost:8080/"
        },
        "id": "ALZcBDlUlbSu",
        "outputId": "cc60fd6a-b2a5-4e0c-ab99-029a329fdf09"
      },
      "execution_count": null,
      "outputs": [
        {
          "output_type": "stream",
          "name": "stdout",
          "text": [
            "a,b,c,a,b,g,f\n",
            "a,b,c,a,b,g,f\n",
            "{'a', 'c', 'b', 'f', 'g', ','}\n"
          ]
        }
      ]
    },
    {
      "cell_type": "code",
      "source": [
        "a = input().split(\",\")\n",
        "print(sorted(list(set(a))))"
      ],
      "metadata": {
        "colab": {
          "base_uri": "https://localhost:8080/"
        },
        "id": "eyb_QtEVmxpy",
        "outputId": "e8a35b38-40e3-420a-a430-d4a11106bf0d"
      },
      "execution_count": null,
      "outputs": [
        {
          "output_type": "stream",
          "name": "stdout",
          "text": [
            "red, white, black, red, green, black\n",
            "[' black', ' green', ' red', ' white', 'red']\n"
          ]
        }
      ]
    },
    {
      "cell_type": "code",
      "source": [
        "#Write a Python function to convert a given string to all uppercase if it contains at least 2 uppercase \n",
        "#characters in the first 4 characters\n",
        "\n",
        "str1 = input()\n",
        "no=0\n",
        "s1 = str1[:4]\n",
        "for i in s1:\n",
        "  if i.upper() == i:\n",
        "    no+=1\n",
        "  else:\n",
        "    pass\n",
        "if no >=2:\n",
        "  print(str1.upper())\n",
        "\n",
        "\n"
      ],
      "metadata": {
        "colab": {
          "base_uri": "https://localhost:8080/"
        },
        "id": "TQqw_sjGqrzB",
        "outputId": "a6ae276a-df91-4f39-fed4-41b9adb3cc99"
      },
      "execution_count": null,
      "outputs": [
        {
          "name": "stdout",
          "output_type": "stream",
          "text": [
            "jhjdhjhjjj\n"
          ]
        }
      ]
    },
    {
      "cell_type": "code",
      "source": [
        "#Write a Python program to sort a string lexicographically.\n"
      ],
      "metadata": {
        "id": "pE1XWZLhwiRz"
      },
      "execution_count": null,
      "outputs": []
    },
    {
      "cell_type": "markdown",
      "source": [
        "TextWrap:-\n",
        "The textwrap module can be used for wrapping and formatting of plain text. This module provides formatting of text by adjusting the line breaks in the input paragraph."
      ],
      "metadata": {
        "id": "MA1ZaNpWxtLX"
      }
    },
    {
      "cell_type": "code",
      "source": [
        "import textwrap\n",
        "sample_text ='''\n",
        "Python is a widely used high-level, general-purpose, interpreted, dynamic\n",
        "programming language. Its design philosophy emphasizes code readability,\n",
        "and its syntax allows programmers to express concepts in fewer lines of\n",
        "code than possible in languages such as C++ or Java.\n",
        "    '''\n",
        "\n",
        "text1 =  textwrap.dedent(sample_text).strip()\n",
        "print()\n",
        "print(textwrap.fill(text1,\n",
        "                    initial_indent='',\n",
        "                    subsequent_indent=' ' * 4,\n",
        "                    width=80,\n",
        "                    ))\n",
        "print()"
      ],
      "metadata": {
        "colab": {
          "base_uri": "https://localhost:8080/"
        },
        "id": "aPgW0E7_xxeJ",
        "outputId": "b235b4d2-2d0c-4d39-d3a0-77fd5eacc2f4"
      },
      "execution_count": 1,
      "outputs": [
        {
          "output_type": "stream",
          "name": "stdout",
          "text": [
            "\n",
            "Python is a widely used high-level, general-purpose, interpreted, dynamic\n",
            "    programming language. Its design philosophy emphasizes code readability, and\n",
            "    its syntax allows programmers to express concepts in fewer lines of code\n",
            "    than possible in languages such as C++ or Java.\n",
            "\n"
          ]
        }
      ]
    },
    {
      "cell_type": "code",
      "source": [
        "#Write a Python program to swap commas and dots in a string. \n",
        "amount = \"str.hhjjj,hhj,hgghjjh\"\n",
        "maketrans = amount.maketrans\n",
        "amount = amount.translate(maketrans(',.', '.,'))\n",
        "print(amount)"
      ],
      "metadata": {
        "colab": {
          "base_uri": "https://localhost:8080/"
        },
        "id": "zYLwWnZXx_1g",
        "outputId": "ae76cf85-7f59-4b28-c755-6947d5318f33"
      },
      "execution_count": 4,
      "outputs": [
        {
          "output_type": "stream",
          "name": "stdout",
          "text": [
            "str,hhjjj.hhj.hgghjjh\n"
          ]
        }
      ]
    },
    {
      "cell_type": "code",
      "source": [
        "# swap 2 char,digit,symbol\n",
        "amount = \"str.hhjjj,hhj,hgghjjh\"\n",
        "maketrans = amount.maketrans\n",
        "amount = amount.translate(maketrans('rh', 'hr'))\n",
        "print(amount)"
      ],
      "metadata": {
        "colab": {
          "base_uri": "https://localhost:8080/"
        },
        "id": "KBuX7OVy6ZK8",
        "outputId": "0b09935d-20dc-4651-fc5f-bb6286df3056"
      },
      "execution_count": 5,
      "outputs": [
        {
          "output_type": "stream",
          "name": "stdout",
          "text": [
            "sth.rrjjj,rrj,rggrjjr\n"
          ]
        }
      ]
    },
    {
      "cell_type": "code",
      "source": [
        "#Write a Python program to count and display vowels in text.\n",
        "def str1(st):\n",
        "  vovels = 'aeiouAEIOU'\n",
        "  print(len([l for l in st if l in vovels]))\n",
        "  print([l for l in st if l in vovels])\n",
        "\n",
        "str1(input())\n",
        "\n"
      ],
      "metadata": {
        "colab": {
          "base_uri": "https://localhost:8080/"
        },
        "id": "d3z2iO7l6s5J",
        "outputId": "b2d4eece-638f-4f0e-fdda-7bfc81f38bb4"
      },
      "execution_count": 7,
      "outputs": [
        {
          "output_type": "stream",
          "name": "stdout",
          "text": [
            "w3resources\n",
            "4\n",
            "['e', 'o', 'u', 'e']\n"
          ]
        }
      ]
    },
    {
      "cell_type": "markdown",
      "source": [
        "## Counter"
      ],
      "metadata": {
        "id": "0IttWnO1f1cR"
      }
    },
    {
      "cell_type": "code",
      "source": [
        "#Write a Python program to count the occurrences of each word in a given sentence.\n",
        "i = input()\n",
        "print(Counter(i))"
      ],
      "metadata": {
        "colab": {
          "base_uri": "https://localhost:8080/"
        },
        "id": "yDDTf5-8bm_M",
        "outputId": "c8cca44f-f8df-4da9-e247-caee690d05d4"
      },
      "execution_count": null,
      "outputs": [
        {
          "output_type": "stream",
          "name": "stdout",
          "text": [
            "hdjhjhjdsadskj\n",
            "Counter({'j': 4, 'h': 3, 'd': 3, 's': 2, 'a': 1, 'k': 1})\n"
          ]
        }
      ]
    },
    {
      "cell_type": "code",
      "source": [
        "#Write a Python program to find the first repeated word in a given string\n",
        "\n",
        "def st(s):\n",
        "  return s.count(s[0])\n",
        "\n",
        "print(st(input()))"
      ],
      "metadata": {
        "colab": {
          "base_uri": "https://localhost:8080/"
        },
        "id": "DzWiECa9-r7G",
        "outputId": "0fe38da7-339c-4c18-95df-c10df6abc69d"
      },
      "execution_count": 8,
      "outputs": [
        {
          "output_type": "stream",
          "name": "stdout",
          "text": [
            "wwwwhhhwww\n",
            "7\n"
          ]
        }
      ]
    },
    {
      "cell_type": "code",
      "source": [
        "# most repeated word\n",
        "from collections import Counter\n",
        "def st(s):\n",
        "  return max(Counter(s)) # it will give us max char in straing\n",
        "  return max(Counter(s)) # this will be ignored \n",
        "\n",
        "print(st(input()))"
      ],
      "metadata": {
        "id": "IGam1mWjCbKM"
      },
      "execution_count": null,
      "outputs": []
    },
    {
      "cell_type": "code",
      "source": [
        "# most repeated word\n",
        "from collections import Counter\n",
        "def st(s):\n",
        "  return max(Counter(s).values())\n",
        "  return max(Counter(s)) # this will be ignored \n",
        "\n",
        "print(st(input()))\n"
      ],
      "metadata": {
        "id": "yCOZnTapfmkY",
        "colab": {
          "base_uri": "https://localhost:8080/"
        },
        "outputId": "0155f730-ab0f-4aa6-d662-d0ba1ab7d3b6"
      },
      "execution_count": 13,
      "outputs": [
        {
          "output_type": "stream",
          "name": "stdout",
          "text": [
            "wwwwdffdfdggfgf\n",
            "w\n"
          ]
        }
      ]
    },
    {
      "cell_type": "code",
      "source": [
        "# most repeated word\n",
        "from collections import Counter\n",
        "def st(s):\n",
        "  return max(Counter(s).values()) and max(Counter(s))\n",
        "   \n",
        "\n",
        "print(st(input()))"
      ],
      "metadata": {
        "id": "2SKPwCmIfmhW",
        "colab": {
          "base_uri": "https://localhost:8080/"
        },
        "outputId": "d77f94be-bd90-4f01-a640-1f543aafcb41"
      },
      "execution_count": 15,
      "outputs": [
        {
          "output_type": "stream",
          "name": "stdout",
          "text": [
            "nhhjjjjjs\n",
            "s\n"
          ]
        }
      ]
    },
    {
      "cell_type": "code",
      "source": [
        "# most repeated word\n",
        "def st(s):\n",
        "  print(Counter(s).most_common(3))\n",
        "\n",
        "st(input())"
      ],
      "metadata": {
        "colab": {
          "base_uri": "https://localhost:8080/"
        },
        "id": "21zOQ1n5B_eJ",
        "outputId": "4f495320-75ad-4f5f-9448-acd02655a7c9"
      },
      "execution_count": 16,
      "outputs": [
        {
          "output_type": "stream",
          "name": "stdout",
          "text": [
            "wwwssdsjjwww\n",
            "[('w', 6), ('s', 3), ('j', 2)]\n"
          ]
        }
      ]
    },
    {
      "cell_type": "code",
      "source": [
        "s = input()\n",
        "print(Counter(s))\n",
        "print(max(Counter(s)))\n",
        "print(max(Counter(s).keys()))\n",
        "print(max(Counter(s).values()))\n",
        "print(sorted(s))"
      ],
      "metadata": {
        "colab": {
          "base_uri": "https://localhost:8080/"
        },
        "id": "Yp73EypQD4r0",
        "outputId": "6ab252d6-6bec-47b6-a7e7-7a2482dffc69"
      },
      "execution_count": 18,
      "outputs": [
        {
          "output_type": "stream",
          "name": "stdout",
          "text": [
            "AahhjjjfBhhjhjwwwW\n",
            "Counter({'h': 5, 'j': 5, 'w': 3, 'A': 1, 'a': 1, 'f': 1, 'B': 1, 'W': 1})\n",
            "w\n",
            "w\n",
            "5\n",
            "['A', 'B', 'W', 'a', 'f', 'h', 'h', 'h', 'h', 'h', 'j', 'j', 'j', 'j', 'j', 'w', 'w', 'w']\n"
          ]
        }
      ]
    },
    {
      "cell_type": "code",
      "source": [
        "from collections import Counter\n",
        "c = Counter(p=4, q=2, r=0, s=-2)\n",
        "print(list(c.elements()))"
      ],
      "metadata": {
        "id": "XpfpefKqFfFM"
      },
      "execution_count": null,
      "outputs": []
    },
    {
      "cell_type": "code",
      "source": [
        "from collections.abc import ValuesView\n",
        "str2 = \"aaaaBBBBBbbbbbccccc\"\n",
        "from collections import Counter\n",
        "# high freqvency \n",
        "res = Counter(str2)\n",
        "print(res)\n",
        "freq = max(res, key=res.get) \n",
        "print(freq,ord(freq))"
      ],
      "metadata": {
        "colab": {
          "base_uri": "https://localhost:8080/"
        },
        "id": "BM0WjeQ2Ff3w",
        "outputId": "cd8c56a3-73e5-4df8-bfd9-92bd1ef8ad56"
      },
      "execution_count": 19,
      "outputs": [
        {
          "output_type": "stream",
          "name": "stdout",
          "text": [
            "Counter({'B': 5, 'b': 5, 'c': 5, 'a': 4})\n",
            "B 66\n"
          ]
        }
      ]
    },
    {
      "cell_type": "code",
      "source": [
        "str2 = \"aaaaaaBBBBBBbbbbbbccccc\"\n",
        "str3 = \"\".join(sorted(str2, reverse= True))\n",
        "print(str3)\n",
        "from collections import Counter\n",
        "# high freqvency \n",
        "res = Counter(str3)\n",
        "print(res)\n",
        "freq = max(res, key=res.get) \n",
        "print(freq,ord(freq))"
      ],
      "metadata": {
        "colab": {
          "base_uri": "https://localhost:8080/"
        },
        "id": "jJLObCBIF-Nw",
        "outputId": "c4cc21cd-4d91-4ce0-e5d3-aff1337398e2"
      },
      "execution_count": 21,
      "outputs": [
        {
          "output_type": "stream",
          "name": "stdout",
          "text": [
            "cccccbbbbbbaaaaaaBBBBBB\n",
            "Counter({'b': 6, 'a': 6, 'B': 6, 'c': 5})\n",
            "b 98\n"
          ]
        }
      ]
    },
    {
      "cell_type": "code",
      "source": [
        "st = \"Both of these issues are fixed by postponing the evaluation of annotations. Instead of compiling code which executes expressions in annotations at their definition time, the compiler stores the annotation in a string form equivalent to the AST of the expression in question. If needed, annotations can be resolved at runtime using typing.get_type_hints(). In the common case where this is not required, the annotations are cheaper to store (since short strings are interned by the interpreter) and make startup time faster.\"\n",
        "st1 = st.split()\n",
        "l = Counter(st1).most_common(2)\n",
        "print(l[1])\n"
      ],
      "metadata": {
        "colab": {
          "base_uri": "https://localhost:8080/"
        },
        "id": "Wh8t6PErF-KV",
        "outputId": "73eff239-9ee7-498f-beb8-d2c7d6ff990e"
      },
      "execution_count": 26,
      "outputs": [
        {
          "output_type": "stream",
          "name": "stdout",
          "text": [
            "('of', 4)\n"
          ]
        }
      ]
    },
    {
      "cell_type": "code",
      "source": [
        "from collections import OrderedDict\n",
        "def remove_duplicate(str1):\n",
        "  return \"\".join(OrderedDict.fromkeys(str1))\n",
        "     \n",
        "print(remove_duplicate(\"python exercises practice solution\"))\n",
        "print(remove_duplicate(\"w3resource\"))"
      ],
      "metadata": {
        "colab": {
          "base_uri": "https://localhost:8080/"
        },
        "id": "38zPtaPfM-FV",
        "outputId": "00215d8a-ce02-4afb-b119-faf239d2fb45"
      },
      "execution_count": 32,
      "outputs": [
        {
          "output_type": "stream",
          "name": "stdout",
          "text": [
            "python exrcisalu\n",
            "w3resouc\n"
          ]
        }
      ]
    },
    {
      "cell_type": "markdown",
      "source": [
        "## String space"
      ],
      "metadata": {
        "id": "s8TGFo6NJm88"
      }
    },
    {
      "cell_type": "code",
      "source": [
        "#Write a Python program to remove spaces from a given string\n",
        "print(st.replace(\" \",\"\"))"
      ],
      "metadata": {
        "colab": {
          "base_uri": "https://localhost:8080/"
        },
        "id": "yUYpDw-tF-IE",
        "outputId": "654f9bae-8d76-4fa3-8b7b-4ba9588355b8"
      },
      "execution_count": 27,
      "outputs": [
        {
          "output_type": "stream",
          "name": "stdout",
          "text": [
            "Bothoftheseissuesarefixedbypostponingtheevaluationofannotations.Insteadofcompilingcodewhichexecutesexpressionsinannotationsattheirdefinitiontime,thecompilerstorestheannotationinastringformequivalenttotheASToftheexpressioninquestion.Ifneeded,annotationscanberesolvedatruntimeusingtyping.get_type_hints().Inthecommoncasewherethisisnotrequired,theannotationsarecheapertostore(sinceshortstringsareinternedbytheinterpreter)andmakestartuptimefaster.\n"
          ]
        }
      ]
    },
    {
      "cell_type": "code",
      "source": [
        "#Write a Python program to capitalize the first and last letters of each word in a given string. \n",
        "l = []\n",
        "for i in st.split():\n",
        "  l.append(i[0].upper()+i[1:len(i)-1]+i[-1].upper())\n",
        "print(l)"
      ],
      "metadata": {
        "colab": {
          "base_uri": "https://localhost:8080/"
        },
        "id": "gKz1mjPnF-E1",
        "outputId": "a7e3b2ce-8e3a-40a0-821e-0a95e03cfbed"
      },
      "execution_count": 28,
      "outputs": [
        {
          "output_type": "stream",
          "name": "stdout",
          "text": [
            "['BotH', 'OF', 'ThesE', 'IssueS', 'ArE', 'FixeD', 'BY', 'PostponinG', 'ThE', 'EvaluatioN', 'OF', 'Annotations.', 'InsteaD', 'OF', 'CompilinG', 'CodE', 'WhicH', 'ExecuteS', 'ExpressionS', 'IN', 'AnnotationS', 'AT', 'TheiR', 'DefinitioN', 'Time,', 'ThE', 'CompileR', 'StoreS', 'ThE', 'AnnotatioN', 'IN', 'AA', 'StrinG', 'ForM', 'EquivalenT', 'TO', 'ThE', 'AST', 'OF', 'ThE', 'ExpressioN', 'IN', 'Question.', 'IF', 'Needed,', 'AnnotationS', 'CaN', 'BE', 'ResolveD', 'AT', 'RuntimE', 'UsinG', 'Typing.get_type_hints().', 'IN', 'ThE', 'CommoN', 'CasE', 'WherE', 'ThiS', 'IS', 'NoT', 'Required,', 'ThE', 'AnnotationS', 'ArE', 'CheapeR', 'TO', 'StorE', '(sincE', 'ShorT', 'StringS', 'ArE', 'InterneD', 'BY', 'ThE', 'Interpreter)', 'AnD', 'MakE', 'StartuP', 'TimE', 'Faster.']\n"
          ]
        }
      ]
    },
    {
      "cell_type": "code",
      "source": [
        "#write a Python program to remove duplicate words from a given string.\n",
        "l = []\n",
        "for i in st.split():\n",
        "  if i not in l:\n",
        "    l.append(i)\n",
        "  else:\n",
        "    pass\n",
        "print(l)"
      ],
      "metadata": {
        "colab": {
          "base_uri": "https://localhost:8080/"
        },
        "id": "KoMoTnP4LWrH",
        "outputId": "9a4bc67f-1d52-4990-ba69-386050a77529"
      },
      "execution_count": 30,
      "outputs": [
        {
          "output_type": "stream",
          "name": "stdout",
          "text": [
            "['Both', 'of', 'these', 'issues', 'are', 'fixed', 'by', 'postponing', 'the', 'evaluation', 'annotations.', 'Instead', 'compiling', 'code', 'which', 'executes', 'expressions', 'in', 'annotations', 'at', 'their', 'definition', 'time,', 'compiler', 'stores', 'annotation', 'a', 'string', 'form', 'equivalent', 'to', 'AST', 'expression', 'question.', 'If', 'needed,', 'can', 'be', 'resolved', 'runtime', 'using', 'typing.get_type_hints().', 'In', 'common', 'case', 'where', 'this', 'is', 'not', 'required,', 'cheaper', 'store', '(since', 'short', 'strings', 'interned', 'interpreter)', 'and', 'make', 'startup', 'time', 'faster.']\n"
          ]
        }
      ]
    },
    {
      "cell_type": "code",
      "source": [
        "##write a Python program to remove duplicate words from a given string.\n",
        "l = \"\"\n",
        "for i in st:\n",
        "  if i not in l:\n",
        "    l+=i\n",
        "  else:\n",
        "    pass\n",
        "print(l)\n"
      ],
      "metadata": {
        "colab": {
          "base_uri": "https://localhost:8080/"
        },
        "id": "Ywl6wyfeMf5i",
        "outputId": "41e68fe9-9282-4bb7-f08b-683acbb5db50"
      },
      "execution_count": 31,
      "outputs": [
        {
          "output_type": "stream",
          "name": "stdout",
          "text": [
            "Both fesiuarxdbypngvl.Icmw,qAST_()k\n"
          ]
        }
      ]
    },
    {
      "cell_type": "code",
      "source": [
        "#Write a Python program to compute the sum of the digits in a given string.\n",
        "def st(s):\n",
        "  sum= 0\n",
        "  for i in s:\n",
        "    if i.isdigit():\n",
        "      sum+=int(i)\n",
        "  return sum\n",
        "print(st(input()))"
      ],
      "metadata": {
        "colab": {
          "base_uri": "https://localhost:8080/"
        },
        "id": "Uz2v-XlcNIx3",
        "outputId": "5bb2602a-b910-44c5-9e92-46c27d0c9e60"
      },
      "execution_count": 35,
      "outputs": [
        {
          "output_type": "stream",
          "name": "stdout",
          "text": [
            "3446hjjhhjfds344\n",
            "28\n"
          ]
        }
      ]
    },
    {
      "cell_type": "code",
      "source": [
        "#Write a Python program to remove leading zeros from an IP address.\n"
      ],
      "metadata": {
        "id": "Tcm46WUbqy5z"
      },
      "execution_count": null,
      "outputs": []
    }
  ]
}